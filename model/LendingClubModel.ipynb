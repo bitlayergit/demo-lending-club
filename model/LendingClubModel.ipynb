{
 "cells": [
  {
   "cell_type": "markdown",
   "metadata": {},
   "source": [
    "## Lending Club Model & Deployment"
   ]
  },
  {
   "cell_type": "code",
   "execution_count": 1,
   "metadata": {
    "collapsed": true
   },
   "outputs": [],
   "source": [
    "from sklearn.linear_model import LogisticRegression\n",
    "import pandas as pd\n",
    "import numpy as np"
   ]
  },
  {
   "cell_type": "markdown",
   "metadata": {},
   "source": [
    "### Lending Club Dataset"
   ]
  },
  {
   "cell_type": "code",
   "execution_count": 2,
   "metadata": {
    "collapsed": false
   },
   "outputs": [
    {
     "name": "stdout",
     "output_type": "stream",
     "text": [
      "/bin/sh: line 0: cd: /Users/glamp/repos/yhat/demos/heroku-demos/demo-lending-club/model: No such file or directory\r\n"
     ]
    },
    {
     "data": {
      "text/html": [
       "<div>\n",
       "<table border=\"1\" class=\"dataframe\">\n",
       "  <thead>\n",
       "    <tr style=\"text-align: right;\">\n",
       "      <th></th>\n",
       "      <th>id</th>\n",
       "      <th>member_id</th>\n",
       "      <th>loan_amnt</th>\n",
       "      <th>funded_amnt</th>\n",
       "      <th>funded_amnt_inv</th>\n",
       "      <th>term</th>\n",
       "      <th>apr</th>\n",
       "      <th>int_rate</th>\n",
       "      <th>installment</th>\n",
       "      <th>grade</th>\n",
       "      <th>...</th>\n",
       "      <th>num_il_tl</th>\n",
       "      <th>mo_sin_old_il_acct</th>\n",
       "      <th>num_actv_rev_tl</th>\n",
       "      <th>mo_sin_old_rev_tl_op</th>\n",
       "      <th>mo_sin_rcnt_rev_tl_op</th>\n",
       "      <th>total_rev_hi_lim</th>\n",
       "      <th>num_rev_tl_bal_gt_0</th>\n",
       "      <th>num_op_rev_tl</th>\n",
       "      <th>tot_coll_amt</th>\n",
       "      <th>policy_code</th>\n",
       "    </tr>\n",
       "  </thead>\n",
       "  <tbody>\n",
       "    <tr>\n",
       "      <th>0</th>\n",
       "      <td>54734</td>\n",
       "      <td>80364</td>\n",
       "      <td>25000</td>\n",
       "      <td>25000</td>\n",
       "      <td>19080.057198</td>\n",
       "      <td>36 months</td>\n",
       "      <td>13.62%</td>\n",
       "      <td>11.89%</td>\n",
       "      <td>829.10</td>\n",
       "      <td>B</td>\n",
       "      <td>...</td>\n",
       "      <td>NaN</td>\n",
       "      <td>NaN</td>\n",
       "      <td>NaN</td>\n",
       "      <td>NaN</td>\n",
       "      <td>NaN</td>\n",
       "      <td>NaN</td>\n",
       "      <td>NaN</td>\n",
       "      <td>NaN</td>\n",
       "      <td>NaN</td>\n",
       "      <td>1</td>\n",
       "    </tr>\n",
       "    <tr>\n",
       "      <th>1</th>\n",
       "      <td>55742</td>\n",
       "      <td>114426</td>\n",
       "      <td>7000</td>\n",
       "      <td>7000</td>\n",
       "      <td>672.803839</td>\n",
       "      <td>36 months</td>\n",
       "      <td>11.40%</td>\n",
       "      <td>10.71%</td>\n",
       "      <td>228.22</td>\n",
       "      <td>B</td>\n",
       "      <td>...</td>\n",
       "      <td>NaN</td>\n",
       "      <td>NaN</td>\n",
       "      <td>NaN</td>\n",
       "      <td>NaN</td>\n",
       "      <td>NaN</td>\n",
       "      <td>NaN</td>\n",
       "      <td>NaN</td>\n",
       "      <td>NaN</td>\n",
       "      <td>NaN</td>\n",
       "      <td>1</td>\n",
       "    </tr>\n",
       "    <tr>\n",
       "      <th>2</th>\n",
       "      <td>57245</td>\n",
       "      <td>138150</td>\n",
       "      <td>1200</td>\n",
       "      <td>1200</td>\n",
       "      <td>1200.000000</td>\n",
       "      <td>36 months</td>\n",
       "      <td>16.22%</td>\n",
       "      <td>13.11%</td>\n",
       "      <td>40.50</td>\n",
       "      <td>C</td>\n",
       "      <td>...</td>\n",
       "      <td>NaN</td>\n",
       "      <td>NaN</td>\n",
       "      <td>NaN</td>\n",
       "      <td>NaN</td>\n",
       "      <td>NaN</td>\n",
       "      <td>NaN</td>\n",
       "      <td>NaN</td>\n",
       "      <td>NaN</td>\n",
       "      <td>NaN</td>\n",
       "      <td>1</td>\n",
       "    </tr>\n",
       "    <tr>\n",
       "      <th>3</th>\n",
       "      <td>57416</td>\n",
       "      <td>139635</td>\n",
       "      <td>10800</td>\n",
       "      <td>10800</td>\n",
       "      <td>10691.551053</td>\n",
       "      <td>36 months</td>\n",
       "      <td>16.17%</td>\n",
       "      <td>13.57%</td>\n",
       "      <td>366.86</td>\n",
       "      <td>C</td>\n",
       "      <td>...</td>\n",
       "      <td>NaN</td>\n",
       "      <td>NaN</td>\n",
       "      <td>NaN</td>\n",
       "      <td>NaN</td>\n",
       "      <td>NaN</td>\n",
       "      <td>NaN</td>\n",
       "      <td>NaN</td>\n",
       "      <td>NaN</td>\n",
       "      <td>NaN</td>\n",
       "      <td>1</td>\n",
       "    </tr>\n",
       "    <tr>\n",
       "      <th>4</th>\n",
       "      <td>58915</td>\n",
       "      <td>153417</td>\n",
       "      <td>7500</td>\n",
       "      <td>5025</td>\n",
       "      <td>557.087228</td>\n",
       "      <td>36 months</td>\n",
       "      <td>10.77%</td>\n",
       "      <td>10.08%</td>\n",
       "      <td>162.34</td>\n",
       "      <td>B</td>\n",
       "      <td>...</td>\n",
       "      <td>NaN</td>\n",
       "      <td>NaN</td>\n",
       "      <td>NaN</td>\n",
       "      <td>NaN</td>\n",
       "      <td>NaN</td>\n",
       "      <td>NaN</td>\n",
       "      <td>NaN</td>\n",
       "      <td>NaN</td>\n",
       "      <td>NaN</td>\n",
       "      <td>1</td>\n",
       "    </tr>\n",
       "  </tbody>\n",
       "</table>\n",
       "<p>5 rows × 102 columns</p>\n",
       "</div>"
      ],
      "text/plain": [
       "      id  member_id  loan_amnt  funded_amnt  funded_amnt_inv        term  \\\n",
       "0  54734      80364      25000        25000     19080.057198   36 months   \n",
       "1  55742     114426       7000         7000       672.803839   36 months   \n",
       "2  57245     138150       1200         1200      1200.000000   36 months   \n",
       "3  57416     139635      10800        10800     10691.551053   36 months   \n",
       "4  58915     153417       7500         5025       557.087228   36 months   \n",
       "\n",
       "      apr int_rate  installment grade     ...     num_il_tl  \\\n",
       "0  13.62%   11.89%       829.10     B     ...           NaN   \n",
       "1  11.40%   10.71%       228.22     B     ...           NaN   \n",
       "2  16.22%   13.11%        40.50     C     ...           NaN   \n",
       "3  16.17%   13.57%       366.86     C     ...           NaN   \n",
       "4  10.77%   10.08%       162.34     B     ...           NaN   \n",
       "\n",
       "  mo_sin_old_il_acct num_actv_rev_tl mo_sin_old_rev_tl_op  \\\n",
       "0                NaN             NaN                  NaN   \n",
       "1                NaN             NaN                  NaN   \n",
       "2                NaN             NaN                  NaN   \n",
       "3                NaN             NaN                  NaN   \n",
       "4                NaN             NaN                  NaN   \n",
       "\n",
       "   mo_sin_rcnt_rev_tl_op total_rev_hi_lim num_rev_tl_bal_gt_0 num_op_rev_tl  \\\n",
       "0                    NaN              NaN                 NaN           NaN   \n",
       "1                    NaN              NaN                 NaN           NaN   \n",
       "2                    NaN              NaN                 NaN           NaN   \n",
       "3                    NaN              NaN                 NaN           NaN   \n",
       "4                    NaN              NaN                 NaN           NaN   \n",
       "\n",
       "  tot_coll_amt policy_code  \n",
       "0          NaN           1  \n",
       "1          NaN           1  \n",
       "2          NaN           1  \n",
       "3          NaN           1  \n",
       "4          NaN           1  \n",
       "\n",
       "[5 rows x 102 columns]"
      ]
     },
     "execution_count": 2,
     "metadata": {},
     "output_type": "execute_result"
    }
   ],
   "source": [
    "! cd ~/repos/yhat/demos/heroku-demos/demo-lending-club/model\n",
    "df = pd.read_csv(\"./LoanStats3a.csv\", skiprows=1)\n",
    "df_head = df.head()\n",
    "df_head"
   ]
  },
  {
   "cell_type": "markdown",
   "metadata": {},
   "source": [
    "### Remove records that have too many null vaulues"
   ]
  },
  {
   "cell_type": "code",
   "execution_count": 3,
   "metadata": {
    "collapsed": false
   },
   "outputs": [
    {
     "data": {
      "text/html": [
       "<div>\n",
       "<table border=\"1\" class=\"dataframe\">\n",
       "  <thead>\n",
       "    <tr style=\"text-align: right;\">\n",
       "      <th></th>\n",
       "      <th>id</th>\n",
       "      <th>member_id</th>\n",
       "      <th>loan_amnt</th>\n",
       "      <th>funded_amnt</th>\n",
       "      <th>funded_amnt_inv</th>\n",
       "      <th>term</th>\n",
       "      <th>apr</th>\n",
       "      <th>int_rate</th>\n",
       "      <th>installment</th>\n",
       "      <th>grade</th>\n",
       "      <th>...</th>\n",
       "      <th>num_il_tl</th>\n",
       "      <th>mo_sin_old_il_acct</th>\n",
       "      <th>num_actv_rev_tl</th>\n",
       "      <th>mo_sin_old_rev_tl_op</th>\n",
       "      <th>mo_sin_rcnt_rev_tl_op</th>\n",
       "      <th>total_rev_hi_lim</th>\n",
       "      <th>num_rev_tl_bal_gt_0</th>\n",
       "      <th>num_op_rev_tl</th>\n",
       "      <th>tot_coll_amt</th>\n",
       "      <th>policy_code</th>\n",
       "    </tr>\n",
       "  </thead>\n",
       "  <tbody>\n",
       "    <tr>\n",
       "      <th>0</th>\n",
       "      <td>54734</td>\n",
       "      <td>80364</td>\n",
       "      <td>25000</td>\n",
       "      <td>25000</td>\n",
       "      <td>19080.057198</td>\n",
       "      <td>36 months</td>\n",
       "      <td>13.62%</td>\n",
       "      <td>11.89%</td>\n",
       "      <td>829.10</td>\n",
       "      <td>B</td>\n",
       "      <td>...</td>\n",
       "      <td>NaN</td>\n",
       "      <td>NaN</td>\n",
       "      <td>NaN</td>\n",
       "      <td>NaN</td>\n",
       "      <td>NaN</td>\n",
       "      <td>NaN</td>\n",
       "      <td>NaN</td>\n",
       "      <td>NaN</td>\n",
       "      <td>NaN</td>\n",
       "      <td>1</td>\n",
       "    </tr>\n",
       "    <tr>\n",
       "      <th>1</th>\n",
       "      <td>55742</td>\n",
       "      <td>114426</td>\n",
       "      <td>7000</td>\n",
       "      <td>7000</td>\n",
       "      <td>672.803839</td>\n",
       "      <td>36 months</td>\n",
       "      <td>11.40%</td>\n",
       "      <td>10.71%</td>\n",
       "      <td>228.22</td>\n",
       "      <td>B</td>\n",
       "      <td>...</td>\n",
       "      <td>NaN</td>\n",
       "      <td>NaN</td>\n",
       "      <td>NaN</td>\n",
       "      <td>NaN</td>\n",
       "      <td>NaN</td>\n",
       "      <td>NaN</td>\n",
       "      <td>NaN</td>\n",
       "      <td>NaN</td>\n",
       "      <td>NaN</td>\n",
       "      <td>1</td>\n",
       "    </tr>\n",
       "    <tr>\n",
       "      <th>2</th>\n",
       "      <td>57245</td>\n",
       "      <td>138150</td>\n",
       "      <td>1200</td>\n",
       "      <td>1200</td>\n",
       "      <td>1200.000000</td>\n",
       "      <td>36 months</td>\n",
       "      <td>16.22%</td>\n",
       "      <td>13.11%</td>\n",
       "      <td>40.50</td>\n",
       "      <td>C</td>\n",
       "      <td>...</td>\n",
       "      <td>NaN</td>\n",
       "      <td>NaN</td>\n",
       "      <td>NaN</td>\n",
       "      <td>NaN</td>\n",
       "      <td>NaN</td>\n",
       "      <td>NaN</td>\n",
       "      <td>NaN</td>\n",
       "      <td>NaN</td>\n",
       "      <td>NaN</td>\n",
       "      <td>1</td>\n",
       "    </tr>\n",
       "    <tr>\n",
       "      <th>3</th>\n",
       "      <td>57416</td>\n",
       "      <td>139635</td>\n",
       "      <td>10800</td>\n",
       "      <td>10800</td>\n",
       "      <td>10691.551053</td>\n",
       "      <td>36 months</td>\n",
       "      <td>16.17%</td>\n",
       "      <td>13.57%</td>\n",
       "      <td>366.86</td>\n",
       "      <td>C</td>\n",
       "      <td>...</td>\n",
       "      <td>NaN</td>\n",
       "      <td>NaN</td>\n",
       "      <td>NaN</td>\n",
       "      <td>NaN</td>\n",
       "      <td>NaN</td>\n",
       "      <td>NaN</td>\n",
       "      <td>NaN</td>\n",
       "      <td>NaN</td>\n",
       "      <td>NaN</td>\n",
       "      <td>1</td>\n",
       "    </tr>\n",
       "    <tr>\n",
       "      <th>4</th>\n",
       "      <td>58915</td>\n",
       "      <td>153417</td>\n",
       "      <td>7500</td>\n",
       "      <td>5025</td>\n",
       "      <td>557.087228</td>\n",
       "      <td>36 months</td>\n",
       "      <td>10.77%</td>\n",
       "      <td>10.08%</td>\n",
       "      <td>162.34</td>\n",
       "      <td>B</td>\n",
       "      <td>...</td>\n",
       "      <td>NaN</td>\n",
       "      <td>NaN</td>\n",
       "      <td>NaN</td>\n",
       "      <td>NaN</td>\n",
       "      <td>NaN</td>\n",
       "      <td>NaN</td>\n",
       "      <td>NaN</td>\n",
       "      <td>NaN</td>\n",
       "      <td>NaN</td>\n",
       "      <td>1</td>\n",
       "    </tr>\n",
       "  </tbody>\n",
       "</table>\n",
       "<p>5 rows × 102 columns</p>\n",
       "</div>"
      ],
      "text/plain": [
       "      id  member_id  loan_amnt  funded_amnt  funded_amnt_inv        term  \\\n",
       "0  54734      80364      25000        25000     19080.057198   36 months   \n",
       "1  55742     114426       7000         7000       672.803839   36 months   \n",
       "2  57245     138150       1200         1200      1200.000000   36 months   \n",
       "3  57416     139635      10800        10800     10691.551053   36 months   \n",
       "4  58915     153417       7500         5025       557.087228   36 months   \n",
       "\n",
       "      apr int_rate  installment grade     ...     num_il_tl  \\\n",
       "0  13.62%   11.89%       829.10     B     ...           NaN   \n",
       "1  11.40%   10.71%       228.22     B     ...           NaN   \n",
       "2  16.22%   13.11%        40.50     C     ...           NaN   \n",
       "3  16.17%   13.57%       366.86     C     ...           NaN   \n",
       "4  10.77%   10.08%       162.34     B     ...           NaN   \n",
       "\n",
       "  mo_sin_old_il_acct num_actv_rev_tl mo_sin_old_rev_tl_op  \\\n",
       "0                NaN             NaN                  NaN   \n",
       "1                NaN             NaN                  NaN   \n",
       "2                NaN             NaN                  NaN   \n",
       "3                NaN             NaN                  NaN   \n",
       "4                NaN             NaN                  NaN   \n",
       "\n",
       "   mo_sin_rcnt_rev_tl_op total_rev_hi_lim num_rev_tl_bal_gt_0 num_op_rev_tl  \\\n",
       "0                    NaN              NaN                 NaN           NaN   \n",
       "1                    NaN              NaN                 NaN           NaN   \n",
       "2                    NaN              NaN                 NaN           NaN   \n",
       "3                    NaN              NaN                 NaN           NaN   \n",
       "4                    NaN              NaN                 NaN           NaN   \n",
       "\n",
       "  tot_coll_amt policy_code  \n",
       "0          NaN           1  \n",
       "1          NaN           1  \n",
       "2          NaN           1  \n",
       "3          NaN           1  \n",
       "4          NaN           1  \n",
       "\n",
       "[5 rows x 102 columns]"
      ]
     },
     "execution_count": 3,
     "metadata": {},
     "output_type": "execute_result"
    }
   ],
   "source": [
    "def is_poor_coverage(row):\n",
    "    pct_null = float(row.isnull().sum()) / row.count()\n",
    "    return pct_null < 0.8\n",
    "\n",
    "df_head[df_head.apply(is_poor_coverage, axis=1)]\n",
    "df = df[df.apply(is_poor_coverage, axis=1)]\n",
    "df.head()"
   ]
  },
  {
   "cell_type": "markdown",
   "metadata": {},
   "source": [
    "### Create derived variables"
   ]
  },
  {
   "cell_type": "code",
   "execution_count": 4,
   "metadata": {
    "collapsed": true
   },
   "outputs": [],
   "source": [
    "df['year_issued'] = df.issue_d.apply(lambda x: int(x.split(\"-\")[0]))\n",
    "df_term = df[df.year_issued < 2012]"
   ]
  },
  {
   "cell_type": "code",
   "execution_count": 5,
   "metadata": {
    "collapsed": true
   },
   "outputs": [],
   "source": [
    "bad_indicators = [\n",
    "    \"Late (16-30 days)\",\n",
    "    \"Late (31-120 days)\",\n",
    "    \"Default\",\n",
    "    \"Charged Off\"\n",
    "]\n",
    "\n",
    "df_term['is_rent'] = df_term.home_ownership==\"RENT\"\n",
    "df_term['is_bad'] = df_term.loan_status.apply(lambda x: x in bad_indicators)"
   ]
  },
  {
   "cell_type": "markdown",
   "metadata": {},
   "source": [
    "### Fit Regression Model"
   ]
  },
  {
   "cell_type": "code",
   "execution_count": 11,
   "metadata": {
    "collapsed": false
   },
   "outputs": [
    {
     "data": {
      "text/plain": [
       "LogisticRegression(C=1.0, class_weight=None, dual=False, fit_intercept=True,\n",
       "          intercept_scaling=1, max_iter=100, multi_class='ovr', n_jobs=1,\n",
       "          penalty='l2', random_state=None, solver='liblinear', tol=0.0001,\n",
       "          verbose=0, warm_start=False)"
      ]
     },
     "execution_count": 11,
     "metadata": {},
     "output_type": "execute_result"
    }
   ],
   "source": [
    "features = ['last_fico_range_low', 'last_fico_range_high', 'is_rent']\n",
    "model = LogisticRegression()\n",
    "model.fit(df_term[features], df_term.is_bad)"
   ]
  },
  {
   "cell_type": "code",
   "execution_count": 7,
   "metadata": {
    "collapsed": false
   },
   "outputs": [
    {
     "data": {
      "text/plain": [
       "GradientBoostingClassifier(init=None, learning_rate=0.1, loss='deviance',\n",
       "              max_depth=3, max_features=None, max_leaf_nodes=None,\n",
       "              min_samples_leaf=1, min_samples_split=2,\n",
       "              min_weight_fraction_leaf=0.0, n_estimators=100,\n",
       "              presort='auto', random_state=None, subsample=1.0, verbose=0,\n",
       "              warm_start=False)"
      ]
     },
     "execution_count": 7,
     "metadata": {},
     "output_type": "execute_result"
    }
   ],
   "source": [
    "# from sklearn.ensemble import GradientBoostingClassifier\n",
    "# features = ['last_fico_range_low', 'last_fico_range_high', 'is_rent']\n",
    "# model = GradientBoostingClassifier()\n",
    "# model.fit(df_term[features], df_term.is_bad)"
   ]
  },
  {
   "cell_type": "code",
   "execution_count": 12,
   "metadata": {
    "collapsed": false
   },
   "outputs": [
    {
     "data": {
      "text/plain": [
       "array([[ -1.73398053e-03,  -6.35820249e+00],\n",
       "       [ -2.89878075e-02,  -3.55533886e+00],\n",
       "       [ -1.43929363e-02,  -4.24820556e+00],\n",
       "       [ -3.29025301e-02,  -3.43061188e+00],\n",
       "       [ -2.54960081e-03,  -5.97309300e+00]])"
      ]
     },
     "execution_count": 12,
     "metadata": {},
     "output_type": "execute_result"
    }
   ],
   "source": [
    "model.predict_log_proba(df_term[features].head())"
   ]
  },
  {
   "cell_type": "markdown",
   "metadata": {},
   "source": [
    "### Converting to \"FICO style\" Score"
   ]
  },
  {
   "cell_type": "code",
   "execution_count": 13,
   "metadata": {
    "collapsed": true
   },
   "outputs": [],
   "source": [
    "def calculate_score(log_odds):\n",
    "    # 300 baseline + (40 points equals double risk) * odds\n",
    "    return 300 + (40 / np.log(2)) * (-log_odds)"
   ]
  },
  {
   "cell_type": "code",
   "execution_count": 14,
   "metadata": {
    "collapsed": false
   },
   "outputs": [
    {
     "data": {
      "text/plain": [
       "array([ 666.91788821,  505.17078965,  545.15460385, ...,  323.39840448,\n",
       "        317.45837186,  323.39840448])"
      ]
     },
     "execution_count": 14,
     "metadata": {},
     "output_type": "execute_result"
    }
   ],
   "source": [
    "probs = model.predict_proba(df_term[features])[:,1]\n",
    "log_probs = model.predict_log_proba(df_term[features])[:,1]\n",
    "scores = calculate_score(log_probs)\n",
    "scores"
   ]
  },
  {
   "cell_type": "markdown",
   "metadata": {},
   "source": [
    "### Deployment to ScienceOps"
   ]
  },
  {
   "cell_type": "code",
   "execution_count": 15,
   "metadata": {
    "collapsed": true
   },
   "outputs": [],
   "source": [
    "from yhat import Yhat, YhatModel\n",
    "\n",
    "class LoanModel(YhatModel):\n",
    "    REQUIREMENTS = [\n",
    "        \"openblas\"\n",
    "    ]\n",
    "    def execute(self, data):\n",
    "        data = pd.DataFrame(data)\n",
    "        data['is_rent'] = data['home_ownership']==\"RENT\"\n",
    "        data = data[features]\n",
    "        prob = model.predict_proba(data)[0][1]\n",
    "        if prob > 0.3:\n",
    "            decline_code = \"Credit score too low\"\n",
    "        else:\n",
    "            decline_code = \"\"\n",
    "            \n",
    "        output = {\n",
    "            \"prob_default\": [prob],\n",
    "            \"decline_code\": [decline_code]\n",
    "        }\n",
    "\n",
    "        # convert the log-odds into a score\n",
    "        odds = model.predict_log_proba(data)[0][1]\n",
    "        score = calculate_score(odds)\n",
    "        output['score'] = [score]\n",
    "        print \"OUTPUT FROM LOGS: \" + str(output)\n",
    "        \n",
    "        return output"
   ]
  },
  {
   "cell_type": "code",
   "execution_count": 16,
   "metadata": {
    "collapsed": false
   },
   "outputs": [
    {
     "name": "stdout",
     "output_type": "stream",
     "text": [
      "OUTPUT FROM LOGS: {'score': [580.0287505779952], 'decline_code': [''], 'prob_default': [0.0078086087072957045]}\n"
     ]
    },
    {
     "data": {
      "text/plain": [
       "{'decline_code': [''],\n",
       " 'prob_default': [0.0078086087072957045],\n",
       " 'score': [580.0287505779952]}"
      ]
     },
     "execution_count": 16,
     "metadata": {},
     "output_type": "execute_result"
    }
   ],
   "source": [
    "# local test\n",
    "test = {\n",
    "    \"last_fico_range_low\": [705],\n",
    "    \"last_fico_range_high\": [732],\n",
    "    \"home_ownership\": [\"MORTGAGE\"]\n",
    "}\n",
    "\n",
    "lm = LoanModel()\n",
    "lm.execute(test)"
   ]
  },
  {
   "cell_type": "code",
   "execution_count": 17,
   "metadata": {
    "collapsed": false
   },
   "outputs": [
    {
     "name": "stdout",
     "output_type": "stream",
     "text": [
      "extracting model\n",
      "required packages\n",
      " [+] yhat==1.9.16\n",
      "model specified requirements\n",
      " [+] openblas (latest)\n",
      "autodetected packages\n",
      " [+] numpy==1.11.1\n",
      " [+] pandas==0.18.1\n",
      "model variables\n",
      " [+] model <class 'sklearn.linear_model.logistic.LogisticRegression'> 723.0B\n",
      " [+] features <type 'list'> 66.0B\n"
     ]
    },
    {
     "name": "stderr",
     "output_type": "stream",
     "text": [
      "/Users/glamp/anaconda2/lib/python2.7/site-packages/yhat/requirements.py:217: UserWarning: Dependency numpy==1.11.1 was found with autodetection, but we recommend explicitly stating your requirements.\n",
      "  \"explicitly stating your requirements.\" % (imp_req)\n",
      "/Users/glamp/anaconda2/lib/python2.7/site-packages/yhat/requirements.py:217: UserWarning: Dependency pandas==0.18.1 was found with autodetection, but we recommend explicitly stating your requirements.\n",
      "  \"explicitly stating your requirements.\" % (imp_req)\n",
      "\r",
      "Transfering Model: |                                                                                                                                                          |  0% ETA:  --:--:--   0.0 s/B\r",
      "Transfering Model: |#########################################################################################################################################################|100% ETA:  0:00:00  13.8 KiB/s"
     ]
    },
    {
     "data": {
      "text/plain": [
       "{'message': 'Model successfully uploaded. Your model will begin building momentarily. Please see https://sandbox.c.yhat.com/ for more details',\n",
       " 'status': 'OK'}"
      ]
     },
     "execution_count": 17,
     "metadata": {},
     "output_type": "execute_result"
    }
   ],
   "source": [
    "yh = Yhat(\"demo-master\", \"3b0160e10f6d7a94a2528b11b1c9bca1\", \"https://sandbox.c.yhat.com/\")\n",
    "yh.deploy(\"LendingClub\", LoanModel, globals(), True)"
   ]
  },
  {
   "cell_type": "code",
   "execution_count": null,
   "metadata": {
    "collapsed": true
   },
   "outputs": [],
   "source": []
  },
  {
   "cell_type": "code",
   "execution_count": null,
   "metadata": {
    "collapsed": false
   },
   "outputs": [],
   "source": [
    "columns = [\n",
    "    \"member_id\",\n",
    "    \"last_fico_range_low\",\n",
    "    \"last_fico_range_high\",\n",
    "    \"home_ownership\",\n",
    "    \"loan_amnt\"\n",
    "]\n",
    "sample_input = df_term[columns]"
   ]
  },
  {
   "cell_type": "code",
   "execution_count": null,
   "metadata": {
    "collapsed": false
   },
   "outputs": [],
   "source": [
    "import sys\n",
    "import json\n",
    "\n",
    "data = {\"in\": [], \"out\": []}\n",
    "for _, row in sample_input.iterrows():\n",
    "    row = row.to_dict()\n",
    "    output = lm.execute(row)\n",
    "    data['in'].append(row)\n",
    "    data['out'].append(output)\n",
    "data = pd.DataFrame(data)\n",
    "data['in'] = data['in'].apply(json.dumps)\n",
    "data['out'] = data['out'].apply(json.dumps)\n",
    "\n",
    "data.to_csv(\"/Users/glamp/Downloads/lending-sample.csv\", index=False)"
   ]
  }
 ],
 "metadata": {
  "anaconda-cloud": {},
  "kernelspec": {
   "display_name": "Python [default]",
   "language": "python",
   "name": "python2"
  },
  "language_info": {
   "codemirror_mode": {
    "name": "ipython",
    "version": 2
   },
   "file_extension": ".py",
   "mimetype": "text/x-python",
   "name": "python",
   "nbconvert_exporter": "python",
   "pygments_lexer": "ipython2",
   "version": "2.7.12"
  }
 },
 "nbformat": 4,
 "nbformat_minor": 0
}
